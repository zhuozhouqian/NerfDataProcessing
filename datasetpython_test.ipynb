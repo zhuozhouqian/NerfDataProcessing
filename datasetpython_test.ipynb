{
 "cells": [
  {
   "cell_type": "code",
   "execution_count": 1,
   "id": "14529ce0",
   "metadata": {},
   "outputs": [],
   "source": [
    "import os\n",
    "import sys\n",
    "import shutil"
   ]
  },
  {
   "cell_type": "code",
   "execution_count": 2,
   "id": "3529f62c",
   "metadata": {},
   "outputs": [],
   "source": [
    "import numpy as np"
   ]
  },
  {
   "cell_type": "code",
   "execution_count": 3,
   "id": "2ae6b759",
   "metadata": {},
   "outputs": [],
   "source": [
    "import cv2"
   ]
  },
  {
   "cell_type": "code",
   "execution_count": 42,
   "id": "eb80c469",
   "metadata": {},
   "outputs": [],
   "source": [
    "from scipy.spatial.transform import Rotation\n",
    "import scipy.misc"
   ]
  },
  {
   "cell_type": "code",
   "execution_count": 5,
   "id": "53d6311d",
   "metadata": {},
   "outputs": [],
   "source": [
    "rgb_path=\"2022-12-21-15-57-16-car/rgb/\"\n",
    "depth_path=\"2022-12-21-15-57-16-car/depth/\""
   ]
  },
  {
   "cell_type": "code",
   "execution_count": 20,
   "id": "101138d6",
   "metadata": {},
   "outputs": [],
   "source": [
    "ar=np.array([1,2,3,4,5,6,7,8,9])"
   ]
  },
  {
   "cell_type": "code",
   "execution_count": 21,
   "id": "38db7b90",
   "metadata": {},
   "outputs": [],
   "source": [
    "ar2=ar[0:8:2]"
   ]
  },
  {
   "cell_type": "code",
   "execution_count": 22,
   "id": "d31b7906",
   "metadata": {},
   "outputs": [
    {
     "data": {
      "text/plain": [
       "array([1, 3, 5, 7])"
      ]
     },
     "execution_count": 22,
     "metadata": {},
     "output_type": "execute_result"
    }
   ],
   "source": [
    "ar2"
   ]
  },
  {
   "cell_type": "code",
   "execution_count": 23,
   "id": "2e2d1c35",
   "metadata": {},
   "outputs": [],
   "source": [
    "FrameTrajs=np.loadtxt(\"2022-12-21-15-57-16-car/CameraTrajectory.txt\")"
   ]
  },
  {
   "cell_type": "code",
   "execution_count": 28,
   "id": "e55e1a33",
   "metadata": {},
   "outputs": [],
   "source": [
    "KeyFrameTrajs=np.array(FrameTrajs[0:3000:30][:])"
   ]
  },
  {
   "cell_type": "code",
   "execution_count": 34,
   "id": "32c5ff22",
   "metadata": {},
   "outputs": [
    {
     "data": {
      "text/plain": [
       "(100, 8)"
      ]
     },
     "execution_count": 34,
     "metadata": {},
     "output_type": "execute_result"
    }
   ],
   "source": [
    "KeyFrameTrajs.shape"
   ]
  },
  {
   "cell_type": "code",
   "execution_count": 31,
   "id": "1e991b13",
   "metadata": {},
   "outputs": [],
   "source": [
    "KeyFrameTrajs_Rotation=KeyFrameTrajs[:,4:8]\n",
    "Timestamp=KeyFrameTrajs[:,0]\n",
    "nums=np.size(KeyFrameTrajs_Rotation,axis=0)\n",
    "KeyFrameTrajs_Matrix=np.zeros([nums,4,4])"
   ]
  },
  {
   "cell_type": "code",
   "execution_count": 32,
   "id": "382bc34f",
   "metadata": {},
   "outputs": [],
   "source": [
    "for i in range(0,nums):\n",
    "    Rm=Rotation.from_quat(KeyFrameTrajs_Rotation[i,:])\n",
    "    KeyFrameTrajs_Matrix[i,0:3,0:3]=Rm.as_matrix()\n",
    "    KeyFrameTrajs_Matrix[i,0:3,3]=KeyFrameTrajs[i,1:4]\n",
    "    KeyFrameTrajs_Matrix[i,3,:]=[0,0,0,1]\n"
   ]
  },
  {
   "cell_type": "code",
   "execution_count": 33,
   "id": "6e41729e",
   "metadata": {},
   "outputs": [
    {
     "data": {
      "text/plain": [
       "100"
      ]
     },
     "execution_count": 33,
     "metadata": {},
     "output_type": "execute_result"
    }
   ],
   "source": [
    "np.size(KeyFrameTrajs_Matrix,axis=0)"
   ]
  },
  {
   "cell_type": "code",
   "execution_count": 36,
   "id": "bcca74fd",
   "metadata": {},
   "outputs": [],
   "source": [
    "for i in range(0,nums):\n",
    "    shutil.copyfile(os.path.join(rgb_path,'%.6f' % Timestamp[i]+\".png\"),os.path.join(\"output2/color\",str(i)+\".png\"))\n",
    "    shutil.copyfile(os.path.join(depth_path,'%.6f' % Timestamp[i]+\".png\"),os.path.join(\"output2/depth\",str(i)+\".png\"))\n",
    "    np.savetxt(os.path.join(\"output2/pose\",str(i)+\".txt\"),KeyFrameTrajs_Matrix[i])"
   ]
  },
  {
   "cell_type": "code",
   "execution_count": 39,
   "id": "0ff5aab5",
   "metadata": {},
   "outputs": [],
   "source": [
    "K_1=np.array([[384.2230835 ,   0.        , 315.03936768,   0.        ],\n",
    "       [  0.        , 383.96340942, 245.00970459,   0.        ],\n",
    "       [  0.        ,   0.        ,   1.        ,   0.        ],\n",
    "       [  0.        ,   0.        ,   0.        ,   1.        ]])"
   ]
  },
  {
   "cell_type": "code",
   "execution_count": 41,
   "id": "429be857",
   "metadata": {},
   "outputs": [],
   "source": [
    "np.savetxt(\"output2/intrinsic/intrinsic_color.txt\",K_1)"
   ]
  },
  {
   "cell_type": "code",
   "execution_count": 43,
   "id": "50d0285b",
   "metadata": {},
   "outputs": [],
   "source": [
    "depth_path=\"output2/depth\"\n",
    "for i in range(0,nums):\n",
    "    img=cv2.imread(os.path.join(depth_path,str(i)+\".png\"),-1)\n",
    "    img[img>5000]=0\n",
    "    img[img==0]=0\n",
    "    img[img>5]=255\n",
    "    img_out=img.astype(np.uint8)\n",
    "    cv2.imwrite(os.path.join(\"output2/mask\",str(i)+\".png\"),img_out)"
   ]
  },
  {
   "cell_type": "code",
   "execution_count": null,
   "id": "ac44f8ff",
   "metadata": {},
   "outputs": [],
   "source": []
  }
 ],
 "metadata": {
  "kernelspec": {
   "display_name": "Python 3 (ipykernel)",
   "language": "python",
   "name": "python3"
  },
  "language_info": {
   "codemirror_mode": {
    "name": "ipython",
    "version": 3
   },
   "file_extension": ".py",
   "mimetype": "text/x-python",
   "name": "python",
   "nbconvert_exporter": "python",
   "pygments_lexer": "ipython3",
   "version": "3.8.13"
  }
 },
 "nbformat": 4,
 "nbformat_minor": 5
}
