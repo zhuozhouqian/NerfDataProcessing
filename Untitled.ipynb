{
 "cells": [
  {
   "cell_type": "code",
   "execution_count": 26,
   "id": "0ed86859",
   "metadata": {},
   "outputs": [],
   "source": [
    "import os\n",
    "import sys\n",
    "import shutil"
   ]
  },
  {
   "cell_type": "code",
   "execution_count": 2,
   "id": "fd44bd4f",
   "metadata": {},
   "outputs": [],
   "source": [
    "import numpy as np"
   ]
  },
  {
   "cell_type": "code",
   "execution_count": 3,
   "id": "13ff1ac2",
   "metadata": {},
   "outputs": [],
   "source": [
    "import cv2"
   ]
  },
  {
   "cell_type": "code",
   "execution_count": 17,
   "id": "4c8f5db6",
   "metadata": {},
   "outputs": [],
   "source": [
    "img1=cv2.imread(\"output/depth/13.png\",-1)"
   ]
  },
  {
   "cell_type": "code",
   "execution_count": 27,
   "id": "bc771bb0",
   "metadata": {},
   "outputs": [
    {
     "data": {
      "text/plain": [
       "dtype('uint16')"
      ]
     },
     "execution_count": 27,
     "metadata": {},
     "output_type": "execute_result"
    }
   ],
   "source": [
    "img1.dtype"
   ]
  },
  {
   "cell_type": "code",
   "execution_count": 18,
   "id": "264f6fe5",
   "metadata": {},
   "outputs": [
    {
     "data": {
      "text/plain": [
       "-1"
      ]
     },
     "execution_count": 18,
     "metadata": {},
     "output_type": "execute_result"
    }
   ],
   "source": [
    "cv2.imshow('img1',img1) \n",
    "cv2.waitKey(0) "
   ]
  },
  {
   "cell_type": "code",
   "execution_count": 19,
   "id": "ac8fb416",
   "metadata": {},
   "outputs": [
    {
     "data": {
      "text/plain": [
       "-1"
      ]
     },
     "execution_count": 19,
     "metadata": {},
     "output_type": "execute_result"
    }
   ],
   "source": [
    "depth_filename=\"output/depth/13.png\"\n",
    "imgOri = cv2.imread(depth_filename, -1)\n",
    "depth=cv2.split(imgOri)[0]\n",
    "depth[depth>2000]=0\n",
    "depth=depth/2000.0000\n",
    "cv2.imshow('imgOri',depth)\n",
    "cv2.waitKey(0)\n"
   ]
  },
  {
   "cell_type": "code",
   "execution_count": 103,
   "id": "583b35e1",
   "metadata": {},
   "outputs": [],
   "source": [
    "depth_filename=\"output/depth/13.png\"\n",
    "imgOri = cv2.imread(depth_filename, -1)"
   ]
  },
  {
   "cell_type": "code",
   "execution_count": 104,
   "id": "901a1498",
   "metadata": {},
   "outputs": [
    {
     "data": {
      "text/plain": [
       "(480, 640)"
      ]
     },
     "execution_count": 104,
     "metadata": {},
     "output_type": "execute_result"
    }
   ],
   "source": [
    "imgOri.shape"
   ]
  },
  {
   "cell_type": "code",
   "execution_count": 105,
   "id": "be2faf3d",
   "metadata": {},
   "outputs": [],
   "source": [
    "depth=imgOri"
   ]
  },
  {
   "cell_type": "code",
   "execution_count": 106,
   "id": "e58afd2c",
   "metadata": {},
   "outputs": [
    {
     "data": {
      "text/plain": [
       "20039"
      ]
     },
     "execution_count": 106,
     "metadata": {},
     "output_type": "execute_result"
    }
   ],
   "source": [
    "depth.max()"
   ]
  },
  {
   "cell_type": "code",
   "execution_count": 107,
   "id": "ed7a951f",
   "metadata": {},
   "outputs": [],
   "source": [
    "depth[depth>5000]=0\n",
    "depth[depth==0]=0\n",
    "depth[depth>100]=255"
   ]
  },
  {
   "cell_type": "code",
   "execution_count": 108,
   "id": "39dd9d90",
   "metadata": {},
   "outputs": [],
   "source": [
    "depth=depth.astype(np.uint8)"
   ]
  },
  {
   "cell_type": "code",
   "execution_count": 109,
   "id": "32e1183c",
   "metadata": {},
   "outputs": [
    {
     "data": {
      "text/plain": [
       "-1"
      ]
     },
     "execution_count": 109,
     "metadata": {},
     "output_type": "execute_result"
    }
   ],
   "source": [
    "cv2.imshow('imgOri',depth)\n",
    "cv2.waitKey(0)"
   ]
  },
  {
   "cell_type": "code",
   "execution_count": 110,
   "id": "d822ef93",
   "metadata": {},
   "outputs": [
    {
     "data": {
      "text/plain": [
       "True"
      ]
     },
     "execution_count": 110,
     "metadata": {},
     "output_type": "execute_result"
    }
   ],
   "source": [
    "cv2.imwrite(\"13.png\",depth)"
   ]
  },
  {
   "cell_type": "code",
   "execution_count": 111,
   "id": "bf5263fa",
   "metadata": {},
   "outputs": [],
   "source": [
    "img3=cv2.imread(\"13.png\")"
   ]
  },
  {
   "cell_type": "code",
   "execution_count": 113,
   "id": "f22d87e0",
   "metadata": {},
   "outputs": [
    {
     "data": {
      "text/plain": [
       "(480, 640, 3)"
      ]
     },
     "execution_count": 113,
     "metadata": {},
     "output_type": "execute_result"
    }
   ],
   "source": [
    "img3.shape"
   ]
  },
  {
   "cell_type": "code",
   "execution_count": 115,
   "id": "bb66a668",
   "metadata": {},
   "outputs": [],
   "source": [
    "img2=cv2.imread(\"000000_mask.png\")"
   ]
  },
  {
   "cell_type": "code",
   "execution_count": 116,
   "id": "f9d95bee",
   "metadata": {},
   "outputs": [
    {
     "data": {
      "text/plain": [
       "-1"
      ]
     },
     "execution_count": 116,
     "metadata": {},
     "output_type": "execute_result"
    }
   ],
   "source": [
    "cv2.imshow('img2',img2)\n",
    "cv2.waitKey(0)"
   ]
  },
  {
   "cell_type": "code",
   "execution_count": 117,
   "id": "25844f2d",
   "metadata": {},
   "outputs": [
    {
     "data": {
      "text/plain": [
       "(384, 384, 3)"
      ]
     },
     "execution_count": 117,
     "metadata": {},
     "output_type": "execute_result"
    }
   ],
   "source": [
    "img2.shape"
   ]
  },
  {
   "cell_type": "code",
   "execution_count": null,
   "id": "bc1ffb71",
   "metadata": {},
   "outputs": [],
   "source": []
  }
 ],
 "metadata": {
  "kernelspec": {
   "display_name": "Python 3 (ipykernel)",
   "language": "python",
   "name": "python3"
  },
  "language_info": {
   "codemirror_mode": {
    "name": "ipython",
    "version": 3
   },
   "file_extension": ".py",
   "mimetype": "text/x-python",
   "name": "python",
   "nbconvert_exporter": "python",
   "pygments_lexer": "ipython3",
   "version": "3.8.13"
  }
 },
 "nbformat": 4,
 "nbformat_minor": 5
}
