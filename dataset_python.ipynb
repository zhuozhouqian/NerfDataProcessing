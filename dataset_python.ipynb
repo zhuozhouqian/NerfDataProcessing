{
 "cells": [
  {
   "cell_type": "code",
   "execution_count": null,
   "id": "f134552b",
   "metadata": {},
   "outputs": [],
   "source": [
    "import os\n",
    "import sys\n",
    "import shutil\n",
    "\n",
    "import numpy as np\n",
    "import cv2\n",
    "from scipy.spatial.transform import Rotation\n",
    "import scipy.misc\n",
    "\n",
    "rgb_path=\"\"\n",
    "depth_path=\"\"\n",
    "\n",
    "FrameTrajs=np.loadtxt(\"\")#2022-12-21-15-57-16-car/CameraTrajectory.txt\n",
    "KeyFrameTrajs=np.array()#FrameTrajs[0:3000:30][:]\n",
    "\n",
    "KeyFrameTrajs_Rotation=KeyFrameTrajs[:,4:8]\n",
    "Timestamp=KeyFrameTrajs[:,0]\n",
    "nums=np.size(KeyFrameTrajs_Rotation,axis=0)\n",
    "KeyFrameTrajs_Matrix=np.zeros([nums,4,4])\n",
    "\n",
    "for i in range(0,nums):\n",
    "    Rm=Rotation.from_quat(KeyFrameTrajs_Rotation[i,:])\n",
    "    KeyFrameTrajs_Matrix[i,0:3,0:3]=Rm.as_matrix()\n",
    "    KeyFrameTrajs_Matrix[i,0:3,3]=KeyFrameTrajs[i,1:4]\n",
    "    KeyFrameTrajs_Matrix[i,3,:]=[0,0,0,1]\n",
    "\n",
    "for i in range(0,nums):\n",
    "    shutil.copyfile(os.path.join(rgb_path,'%.6f' % Timestamp[i]+\".png\"),os.path.join(\"output2/color\",str(i)+\".png\"))\n",
    "    shutil.copyfile(os.path.join(depth_path,'%.6f' % Timestamp[i]+\".png\"),os.path.join(\"output2/depth\",str(i)+\".png\"))\n",
    "    np.savetxt(os.path.join(\"output2/pose\",str(i)+\".txt\"),KeyFrameTrajs_Matrix[i])\n",
    "    \n",
    "K_1=np.array([[384.2230835 ,   0.        , 315.03936768,   0.        ],\n",
    "       [  0.        , 383.96340942, 245.00970459,   0.        ],\n",
    "       [  0.        ,   0.        ,   1.        ,   0.        ],\n",
    "       [  0.        ,   0.        ,   0.        ,   1.        ]])\n",
    "\n",
    "np.savetxt(\"output2/intrinsic/intrinsic_color.txt\",K_1)\n",
    "\n",
    "depth_path=\"output2/depth\"\n",
    "for i in range(0,nums):\n",
    "    img=cv2.imread(os.path.join(depth_path,str(i)+\".png\"),-1)\n",
    "    img[img>5000]=0\n",
    "    img[img==0]=0\n",
    "    img[img>5]=255\n",
    "    img_out=img.astype(np.uint8)\n",
    "    cv2.imwrite(os.path.join(\"output2/mask\",str(i)+\".png\"),img_out)"
   ]
  }
 ],
 "metadata": {
  "kernelspec": {
   "display_name": "Python 3 (ipykernel)",
   "language": "python",
   "name": "python3"
  },
  "language_info": {
   "codemirror_mode": {
    "name": "ipython",
    "version": 3
   },
   "file_extension": ".py",
   "mimetype": "text/x-python",
   "name": "python",
   "nbconvert_exporter": "python",
   "pygments_lexer": "ipython3",
   "version": "3.8.13"
  }
 },
 "nbformat": 4,
 "nbformat_minor": 5
}
