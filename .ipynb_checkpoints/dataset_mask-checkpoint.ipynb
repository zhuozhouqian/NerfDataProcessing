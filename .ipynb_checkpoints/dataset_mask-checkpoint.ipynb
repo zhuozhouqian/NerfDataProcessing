{
 "cells": [
  {
   "cell_type": "code",
   "execution_count": 16,
   "id": "70d85fbc",
   "metadata": {},
   "outputs": [],
   "source": [
    "import os\n",
    "import sys\n",
    "import shutil"
   ]
  },
  {
   "cell_type": "code",
   "execution_count": 17,
   "id": "c4eca4e5",
   "metadata": {},
   "outputs": [],
   "source": [
    "import numpy as np\n",
    "import cv2"
   ]
  },
  {
   "cell_type": "code",
   "execution_count": 18,
   "id": "3a62fa58",
   "metadata": {},
   "outputs": [],
   "source": [
    "import scipy.misc"
   ]
  },
  {
   "cell_type": "code",
   "execution_count": 16,
   "id": "170dbce9",
   "metadata": {},
   "outputs": [],
   "source": [
    "depth_path=\"output/depth\""
   ]
  },
  {
   "cell_type": "code",
   "execution_count": 17,
   "id": "b5f94dba",
   "metadata": {},
   "outputs": [],
   "source": [
    "nums=105"
   ]
  },
  {
   "cell_type": "code",
   "execution_count": 18,
   "id": "aef11c46",
   "metadata": {},
   "outputs": [],
   "source": [
    "for i in range(0,nums):\n",
    "    img=cv2.imread(os.path.join(depth_path,str(i)+\".png\"),-1)\n",
    "    img[img>5000]=0\n",
    "    img[img==0]=0\n",
    "    img[img>5]=255\n",
    "    img_out=img.astype(np.uint8)\n",
    "    cv2.imwrite(os.path.join(\"output/mask\",str(i)+\".png\"),img_out)"
   ]
  },
  {
   "cell_type": "code",
   "execution_count": 13,
   "id": "5ff52593",
   "metadata": {},
   "outputs": [],
   "source": [
    "img=cv2.imread(os.path.join(depth_path,str(0)+\".png\"),-1)"
   ]
  },
  {
   "cell_type": "code",
   "execution_count": 19,
   "id": "101aadb7",
   "metadata": {},
   "outputs": [
    {
     "data": {
      "text/plain": [
       "(480, 640)"
      ]
     },
     "execution_count": 19,
     "metadata": {},
     "output_type": "execute_result"
    }
   ],
   "source": [
    "img.shape"
   ]
  },
  {
   "cell_type": "code",
   "execution_count": 3,
   "id": "e6ddee3f",
   "metadata": {},
   "outputs": [],
   "source": [
    "img_1=cv2.imread(\"000000_depth.png\",-1)\n",
    "img_2=cv2.imread(\"output/depth/0.png\",-1)"
   ]
  },
  {
   "cell_type": "code",
   "execution_count": 4,
   "id": "dea5a8a3",
   "metadata": {},
   "outputs": [
    {
     "data": {
      "text/plain": [
       "dtype('uint8')"
      ]
     },
     "execution_count": 4,
     "metadata": {},
     "output_type": "execute_result"
    }
   ],
   "source": [
    "img_1.dtype"
   ]
  },
  {
   "cell_type": "code",
   "execution_count": 5,
   "id": "9021dc95",
   "metadata": {},
   "outputs": [
    {
     "data": {
      "text/plain": [
       "dtype('uint16')"
      ]
     },
     "execution_count": 5,
     "metadata": {},
     "output_type": "execute_result"
    }
   ],
   "source": [
    "img_2.dtype"
   ]
  },
  {
   "cell_type": "code",
   "execution_count": 19,
   "id": "36435273",
   "metadata": {},
   "outputs": [
    {
     "name": "stdout",
     "output_type": "stream",
     "text": [
      "(384, 384)\n"
     ]
    },
    {
     "data": {
      "text/plain": [
       "dtype('float32')"
      ]
     },
     "execution_count": 19,
     "metadata": {},
     "output_type": "execute_result"
    }
   ],
   "source": [
    "imgs_test = np.load('./000000_depth_chair01.npy') #读入.npy文件\n",
    "print(imgs_test.shape)\n",
    "imgs_test.dtype"
   ]
  },
  {
   "cell_type": "code",
   "execution_count": 20,
   "id": "8620906a",
   "metadata": {},
   "outputs": [
    {
     "name": "stdout",
     "output_type": "stream",
     "text": [
      "(384, 384)\n"
     ]
    },
    {
     "data": {
      "text/plain": [
       "dtype('float32')"
      ]
     },
     "execution_count": 20,
     "metadata": {},
     "output_type": "execute_result"
    }
   ],
   "source": [
    "imgs_room = np.load('./000000_depth_room0.npy') #读入.npy文件\n",
    "print(imgs_room.shape)\n",
    "imgs_room.dtype"
   ]
  },
  {
   "cell_type": "code",
   "execution_count": 35,
   "id": "5cb082dc",
   "metadata": {},
   "outputs": [],
   "source": [
    "imgs_room_v2=cv2.imread('000000_depth.png',-1)"
   ]
  },
  {
   "cell_type": "code",
   "execution_count": 38,
   "id": "70c1c391",
   "metadata": {},
   "outputs": [],
   "source": [
    "imgs_car=cv2.imread('output/depth/0.png',-1)"
   ]
  },
  {
   "cell_type": "code",
   "execution_count": 39,
   "id": "b0464c52",
   "metadata": {},
   "outputs": [
    {
     "data": {
      "text/plain": [
       "dtype('uint16')"
      ]
     },
     "execution_count": 39,
     "metadata": {},
     "output_type": "execute_result"
    }
   ],
   "source": [
    "imgs_car.dtype"
   ]
  },
  {
   "cell_type": "code",
   "execution_count": 37,
   "id": "30a612af",
   "metadata": {},
   "outputs": [
    {
     "data": {
      "text/plain": [
       "147.99962700737848"
      ]
     },
     "execution_count": 37,
     "metadata": {},
     "output_type": "execute_result"
    }
   ],
   "source": [
    "np.mean(imgs_room_v2)"
   ]
  },
  {
   "cell_type": "code",
   "execution_count": 34,
   "id": "fcc03f95",
   "metadata": {},
   "outputs": [
    {
     "data": {
      "text/plain": [
       "-1"
      ]
     },
     "execution_count": 34,
     "metadata": {},
     "output_type": "execute_result"
    }
   ],
   "source": [
    "cv2.imshow('img',imgs_test)\n",
    "cv2.waitKey(0)"
   ]
  },
  {
   "cell_type": "code",
   "execution_count": 31,
   "id": "7748a11f",
   "metadata": {},
   "outputs": [
    {
     "data": {
      "text/plain": [
       "-1"
      ]
     },
     "execution_count": 31,
     "metadata": {},
     "output_type": "execute_result"
    }
   ],
   "source": [
    "cv2.imshow('img_room',imgs_room)\n",
    "cv2.waitKey(0)"
   ]
  },
  {
   "cell_type": "code",
   "execution_count": 32,
   "id": "4f99097c",
   "metadata": {},
   "outputs": [
    {
     "data": {
      "text/plain": [
       "0.025604205"
      ]
     },
     "execution_count": 32,
     "metadata": {},
     "output_type": "execute_result"
    }
   ],
   "source": [
    "np.mean(imgs_room)"
   ]
  },
  {
   "cell_type": "code",
   "execution_count": 33,
   "id": "25b7cb47",
   "metadata": {},
   "outputs": [
    {
     "data": {
      "text/plain": [
       "1.1237637"
      ]
     },
     "execution_count": 33,
     "metadata": {},
     "output_type": "execute_result"
    }
   ],
   "source": [
    "np.mean(imgs_test)"
   ]
  },
  {
   "cell_type": "code",
   "execution_count": null,
   "id": "90305001",
   "metadata": {},
   "outputs": [],
   "source": [
    "for i in range (imgs_test.shape[0]):\n",
    "    B = imgs_test[i, 0, : ,:]#对图像维度进行改变\n",
    "    scipy.misc.imsave(\"./图片所储存的位置/\" + str(i) + \"_predResults\" + \".jpg\",B)"
   ]
  }
 ],
 "metadata": {
  "kernelspec": {
   "display_name": "Python 3 (ipykernel)",
   "language": "python",
   "name": "python3"
  },
  "language_info": {
   "codemirror_mode": {
    "name": "ipython",
    "version": 3
   },
   "file_extension": ".py",
   "mimetype": "text/x-python",
   "name": "python",
   "nbconvert_exporter": "python",
   "pygments_lexer": "ipython3",
   "version": "3.8.13"
  }
 },
 "nbformat": 4,
 "nbformat_minor": 5
}
